{
  "cells": [
    {
      "cell_type": "code",
      "execution_count": null,
      "metadata": {
        "id": "HbQKjd0YX7UA"
      },
      "outputs": [],
      "source": [
        "!pip install -q transformers"
      ]
    },
    {
      "cell_type": "code",
      "execution_count": null,
      "metadata": {
        "colab": {
          "base_uri": "https://localhost:8080/"
        },
        "id": "M5AgzMDmhWgF",
        "outputId": "8d2b24f9-22a4-4ef6-80dc-6d6a289c6d5a"
      },
      "outputs": [
        {
          "name": "stdout",
          "output_type": "stream",
          "text": [
            "Collecting youtube-transcript-api\n",
            "  Downloading youtube_transcript_api-0.6.2-py3-none-any.whl (24 kB)\n",
            "Requirement already satisfied: requests in /usr/local/lib/python3.10/dist-packages (from youtube-transcript-api) (2.31.0)\n",
            "Requirement already satisfied: charset-normalizer<4,>=2 in /usr/local/lib/python3.10/dist-packages (from requests->youtube-transcript-api) (3.3.2)\n",
            "Requirement already satisfied: idna<4,>=2.5 in /usr/local/lib/python3.10/dist-packages (from requests->youtube-transcript-api) (3.7)\n",
            "Requirement already satisfied: urllib3<3,>=1.21.1 in /usr/local/lib/python3.10/dist-packages (from requests->youtube-transcript-api) (2.0.7)\n",
            "Requirement already satisfied: certifi>=2017.4.17 in /usr/local/lib/python3.10/dist-packages (from requests->youtube-transcript-api) (2024.2.2)\n",
            "Installing collected packages: youtube-transcript-api\n",
            "Successfully installed youtube-transcript-api-0.6.2\n"
          ]
        }
      ],
      "source": [
        "!pip install --upgrade youtube-transcript-api"
      ]
    },
    {
      "cell_type": "code",
      "execution_count": null,
      "metadata": {
        "id": "Rr5s3wxYYXtf"
      },
      "outputs": [],
      "source": [
        "!pip install -q youtube_transcript_api"
      ]
    },
    {
      "cell_type": "code",
      "execution_count": null,
      "metadata": {
        "colab": {
          "base_uri": "https://localhost:8080/"
        },
        "id": "uYG1OdKBZx2w",
        "outputId": "cd2468e2-b447-4f3c-cf63-3b6bf1247815"
      },
      "outputs": [
        {
          "name": "stdout",
          "output_type": "stream",
          "text": [
            "Requirement already satisfied: IPython in /usr/local/lib/python3.10/dist-packages (7.34.0)\n",
            "Requirement already satisfied: setuptools>=18.5 in /usr/local/lib/python3.10/dist-packages (from IPython) (67.7.2)\n",
            "Collecting jedi>=0.16 (from IPython)\n",
            "  Downloading jedi-0.19.1-py2.py3-none-any.whl (1.6 MB)\n",
            "\u001b[2K     \u001b[90m━━━━━━━━━━━━━━━━━━━━━━━━━━━━━━━━━━━━━━━━\u001b[0m \u001b[32m1.6/1.6 MB\u001b[0m \u001b[31m20.2 MB/s\u001b[0m eta \u001b[36m0:00:00\u001b[0m\n",
            "\u001b[?25hRequirement already satisfied: decorator in /usr/local/lib/python3.10/dist-packages (from IPython) (4.4.2)\n",
            "Requirement already satisfied: pickleshare in /usr/local/lib/python3.10/dist-packages (from IPython) (0.7.5)\n",
            "Requirement already satisfied: traitlets>=4.2 in /usr/local/lib/python3.10/dist-packages (from IPython) (5.7.1)\n",
            "Requirement already satisfied: prompt-toolkit!=3.0.0,!=3.0.1,<3.1.0,>=2.0.0 in /usr/local/lib/python3.10/dist-packages (from IPython) (3.0.43)\n",
            "Requirement already satisfied: pygments in /usr/local/lib/python3.10/dist-packages (from IPython) (2.16.1)\n",
            "Requirement already satisfied: backcall in /usr/local/lib/python3.10/dist-packages (from IPython) (0.2.0)\n",
            "Requirement already satisfied: matplotlib-inline in /usr/local/lib/python3.10/dist-packages (from IPython) (0.1.7)\n",
            "Requirement already satisfied: pexpect>4.3 in /usr/local/lib/python3.10/dist-packages (from IPython) (4.9.0)\n",
            "Requirement already satisfied: parso<0.9.0,>=0.8.3 in /usr/local/lib/python3.10/dist-packages (from jedi>=0.16->IPython) (0.8.4)\n",
            "Requirement already satisfied: ptyprocess>=0.5 in /usr/local/lib/python3.10/dist-packages (from pexpect>4.3->IPython) (0.7.0)\n",
            "Requirement already satisfied: wcwidth in /usr/local/lib/python3.10/dist-packages (from prompt-toolkit!=3.0.0,!=3.0.1,<3.1.0,>=2.0.0->IPython) (0.2.13)\n",
            "Installing collected packages: jedi\n",
            "Successfully installed jedi-0.19.1\n"
          ]
        }
      ],
      "source": [
        "!pip install IPython"
      ]
    },
    {
      "cell_type": "code",
      "execution_count": null,
      "metadata": {
        "id": "qO2qigBBYipq"
      },
      "outputs": [],
      "source": [
        "from transformers import pipeline\n",
        "from youtube_transcript_api import YouTubeTranscriptApi"
      ]
    },
    {
      "cell_type": "code",
      "execution_count": null,
      "metadata": {
        "id": "dDKUtvK4Y3-L"
      },
      "outputs": [],
      "source": [
        "yt_video = \"https://youtu.be/Jll5baCAaQU?si=io5XEnCrYWGyeJp3\""
      ]
    },
    {
      "cell_type": "code",
      "execution_count": null,
      "metadata": {
        "id": "yO9p9OSFZDkU"
      },
      "outputs": [],
      "source": [
        "video_id = yt_video.split(\"=\")[1]"
      ]
    },
    {
      "cell_type": "code",
      "execution_count": null,
      "metadata": {
        "colab": {
          "base_uri": "https://localhost:8080/",
          "height": 36
        },
        "id": "aBa5sYA2ZN6x",
        "outputId": "6e5f0150-5755-451f-d0c2-351dce314d7b"
      },
      "outputs": [
        {
          "data": {
            "application/vnd.google.colaboratory.intrinsic+json": {
              "type": "string"
            },
            "text/plain": [
              "'io5XEnCrYWGyeJp3'"
            ]
          },
          "execution_count": 8,
          "metadata": {},
          "output_type": "execute_result"
        }
      ],
      "source": [
        "video_id"
      ]
    },
    {
      "cell_type": "code",
      "execution_count": null,
      "metadata": {
        "colab": {
          "base_uri": "https://localhost:8080/",
          "height": 322
        },
        "id": "p6fqynO2ZSh1",
        "outputId": "86ff20cf-77a9-4875-b9ba-d2ee3bda0c1e"
      },
      "outputs": [
        {
          "data": {
            "text/html": [
              "\n",
              "        <iframe\n",
              "            width=\"400\"\n",
              "            height=\"300\"\n",
              "            src=\"https://www.youtube.com/embed/io5XEnCrYWGyeJp3\"\n",
              "            frameborder=\"0\"\n",
              "            allowfullscreen\n",
              "            \n",
              "        ></iframe>\n",
              "        "
            ],
            "text/plain": [
              "<IPython.lib.display.YouTubeVideo at 0x7d9e3ca96860>"
            ]
          },
          "execution_count": 9,
          "metadata": {},
          "output_type": "execute_result"
        }
      ],
      "source": [
        "from IPython.display import YouTubeVideo\n",
        "YouTubeVideo(video_id)"
      ]
    },
    {
      "cell_type": "code",
      "execution_count": null,
      "metadata": {
        "colab": {
          "base_uri": "https://localhost:8080/"
        },
        "id": "ocP6AiBNh3bc",
        "outputId": "f8ce886d-67b6-412b-c128-cc77e160ed96"
      },
      "outputs": [
        {
          "name": "stdout",
          "output_type": "stream",
          "text": [
            "Extracted video ID: Jll5baCAaQU?si=io5XEnCrYWGyeJp3\n",
            "Transcript retrieved successfully.\n",
            "3.34 hello Chicago\n",
            "14.63 if there is anyone out there who still\n",
            "19.56 doubts that America is a place where all\n",
            "23.13 things are possible who still wonders if\n",
            "28.02 the dream of our founders is alive in\n",
            "30.48 our time who still questions the power\n",
            "34.32 of our democracy tonight is your answer\n",
            "44.21 it's the answer told by lines that\n",
            "48.12 stretched around schools and churches in\n",
            "50.91 numbers this nation has never seen by\n",
            "54.54 people who waited three hours and four\n",
            "56.91 hours many for the first time in their\n",
            "60.0 lives because they believed that this\n",
            "63.059 time must be different that their voices\n",
            "66.63 could be that difference it's the answer\n",
            "71.009 spoken by young and old rich and poor\n",
            "74.869 Democrat and Republican black white\n",
            "78.95 Hispanic Asian Native American gay\n",
            "81.99 straight disabled and not disabled\n",
            "85.88 Americans who sent a message to the\n",
            "88.11 world that we have never been just a\n",
            "91.17 collection of individuals or a\n",
            "93.09 collection of red states and blue states\n",
            "95.49 we are and always will be the United\n",
            "98.939 States of America\n",
            "109.259 it's the answer that led those who've\n",
            "114.759 been told for so long by so many to be\n",
            "117.969 cynical and fearful and doubtful about\n",
            "121.24 what we can achieve to put their hands\n",
            "124.569 on the arc of history and bend it once\n",
            "127.509 more toward the hope of a better day\n",
            "130.739 it's been a long time coming\n",
            "133.17 but tonight because of what we did on\n",
            "137.08 this day in this election at this\n",
            "140.38 defining moment change has come to\n",
            "143.17 America a little bit earlier this\n",
            "154.0 evening I received an extraordinarily\n",
            "157.39 gracious call from Senator McCain\n",
            "164.04 Senator McCain fought long and hard in\n",
            "167.019 this campaign and he's fought even\n",
            "170.739 longer and harder for the country that\n",
            "173.47 he loves he has endured sacrifices for\n",
            "177.609 America that most of us cannot begin to\n",
            "180.91 imagine we are better off for the\n",
            "184.6 service rendered by this brave and\n",
            "187.51 selfless leader I congratulate him I\n",
            "191.579 congratulate Governor Palin for all the\n",
            "195.01 David Rives and I look forward to\n",
            "197.889 working with them to renew this nation's\n",
            "201.31 promise in the months ahead\n",
            "206.94 I want to thank my partner in this\n",
            "213.18 journey\n",
            "213.81 a man who campaigned from his heart and\n",
            "216.98 spoke for the men and women he grew up\n",
            "219.33 with on the streets of Scranton and\n",
            "221.27 rolled with on the train home to\n",
            "223.86 Delaware the Vice president-elect of the\n",
            "226.56 United States Joe Biden and I would not\n",
            "238.89 be standing here tonight without the\n",
            "241.65 unyielding support of my best friend for\n",
            "245.94 the last 16 years the rock of our family\n",
            "249.68 the love of my life the nation's next\n",
            "253.95 first lady Michelle Obama\n",
            "265.08 Sasha and Malia I love you both more\n",
            "271.33 than you can imagine\n",
            "272.639 and you have earned the new puppy that's\n",
            "275.949 coming with us to the White House and\n",
            "285.49 while she's no longer with us I know my\n",
            "288.94 grandmother's watching along with the\n",
            "291.97 family that made me who I am I miss them\n",
            "295.539 tonight I know that my debt to them is\n",
            "299.68 beyond measure to my sister Maya\n",
            "303.43 my sister Alma all my other brothers and\n",
            "306.28 sisters thank you so much for all the\n",
            "308.5 support that you've given me I'm\n",
            "310.389 grateful to them to my campaign manager\n",
            "317.979 David Plouffe\n",
            "325.87 the unsung hero of this campaign who\n",
            "329.84 built the best the best political\n",
            "333.32 campaign I think in the history of the\n",
            "335.84 United States of America - my chief\n",
            "342.92 strategist David Axelrod who's been a\n",
            "349.15 partner with me every step of the way to\n",
            "352.22 the best campaign team ever assembled in\n",
            "355.94 the history of politics you made this\n",
            "358.25 happen and I am forever grateful for\n",
            "361.09 what you've sacrificed to get it done\n",
            "367.63 but above all I will never forget who\n",
            "371.69 this victory truly belongs to it belongs\n",
            "375.53 to you\n",
            "377.35 it belongs to you I was never the\n",
            "382.85 likeliest candidate for this office we\n",
            "386.96 didn't start with much money or many\n",
            "389.45 endorsements our campaign was not\n",
            "391.85 hatched in the halls of Washington it\n",
            "395.3 began in the backyards of Des Moines in\n",
            "397.85 the living rooms of Concord and the\n",
            "399.89 front porches of Charleston it was built\n",
            "403.43 by working men and women who dug into\n",
            "405.8 what little savings they had to give\n",
            "407.57 five dollars ten dollars and twenty\n",
            "409.64 dollars to the cause\n",
            "411.76 it grew strength from the young people\n",
            "414.56 who rejected the myth of their\n",
            "416.12 generations apathy who left their homes\n",
            "419.36 and their families for jobs that offered\n",
            "422.15 little pay and less sleep it drew\n",
            "425.45 strength from the not-so young people\n",
            "427.43 who braved the bitter cold and scorching\n",
            "430.04 heat to knock on doors of perfect\n",
            "431.96 strangers and from the millions of\n",
            "434.12 Americans who volunteered and organized\n",
            "436.22 and proved that more than two centuries\n",
            "438.65 later a government of the people by the\n",
            "441.47 people and for the people has not\n",
            "443.96 perished from the earth this is your\n",
            "446.18 victory\n",
            "453.38 now I know you didn't do this just to\n",
            "456.81 win an election I know you didn't do it\n",
            "460.2 for me you did it because you understand\n",
            "463.23 the enormity of the task that lies ahead\n",
            "465.42 for even as we celebrate tonight we know\n",
            "469.77 the challenges that tomorrow will bring\n",
            "471.75 are the greatest of our lifetime two\n",
            "475.47 wars a planet in peril the worst\n",
            "478.8 financial crisis in a century even as we\n",
            "482.94 stand here tonight we know there are\n",
            "484.65 brave Americans waking up in the deserts\n",
            "487.2 of Iraq and the mountains of Afghanistan\n",
            "489.72 to risk their lives for us there are\n",
            "493.17 mothers and fathers who will lie awake\n",
            "494.79 after their children fall asleep and\n",
            "496.77 wonder how they'll make the mortgage or\n",
            "498.9 pay their doctor's bills or save enough\n",
            "501.36 for their child's college education\n",
            "504.05 there's new energy to harness new jobs\n",
            "507.78 to be created new schools to build and\n",
            "510.18 threats to meet alliances to repair the\n",
            "514.59 road ahead will be long our climb will\n",
            "518.729 be steep we may not get there in one\n",
            "521.94 year or even in one term but America I\n",
            "525.18 have never been more hopeful than I am\n",
            "527.73 tonight that we will get there I promise\n",
            "530.58 you we as a people will get there\n",
            "547.59 there will be setbacks and false starts\n",
            "552.35 there are many who won't agree with\n",
            "554.55 every decision or policy I make as\n",
            "556.23 president and we know the government\n",
            "558.21 can't solve every problem but I will\n",
            "561.93 always be honest with you about the\n",
            "563.61 challenges we face I will listen to you\n",
            "566.46 especially when we disagree and above\n",
            "570.66 all I will ask you to join in the work\n",
            "572.97 of remaking this nation the only way\n",
            "575.37 it's been done in America for 221 years\n",
            "578.0 block by block brick by brick calloused\n",
            "582.0 hand by calloused hand what began 21\n",
            "585.72 months ago in the depths of winter\n",
            "588.44 cannot end on this autumn night this\n",
            "592.44 victory alone is not the change we seek\n",
            "594.48 it is only the chance for us to make\n",
            "597.06 that change and that cannot happen if we\n",
            "600.15 go back to the way things were\n",
            "601.95 it can't happen without you without a\n",
            "604.68 new spirit of service a new spirit of\n",
            "607.89 sacrifice so let us summon a new spirit\n",
            "612.78 of patriotism of responsibility where\n",
            "617.1 each of us resolves to pitch in and work\n",
            "619.74 harder and look after not only ourselves\n",
            "622.02 but each other let us remember that if\n",
            "625.17 this financial crisis taught us anything\n",
            "626.88 it's that we cannot have a thriving Wall\n",
            "629.37 Street while Main Street suffers in this\n",
            "633.21 country we rise or fall as one nation as\n",
            "635.79 one people\n",
            "638.18 let's resist the temptation to fall back\n",
            "640.98 on the same partisanship and pettiness\n",
            "643.2 and immaturity that has poisoned our\n",
            "645.93 politics for so long let's remember that\n",
            "649.29 it was a man from this state who Fair's\n",
            "651.72 carry the banner of the Republican Party\n",
            "653.85 of the white house a party founded on\n",
            "656.28 the values of self-reliance and\n",
            "657.9 individual liberty and national unity\n",
            "660.53 those are values that we all share and\n",
            "663.51 while the Democratic Party has won a\n",
            "665.52 great victory tonight we do so with a\n",
            "667.709 measure of humility and determination to\n",
            "671.16 heal the divides that have held back our\n",
            "673.56 progress\n",
            "679.73 as Lincoln said to a nation far more\n",
            "684.18 divided than ours we are not enemies but\n",
            "687.63 friends though passion may have strained\n",
            "690.42 it must not break our bonds of affection\n",
            "694.61 and to those Americans who whose support\n",
            "698.37 I have yet to earn I may not have won\n",
            "701.31 your vote tonight but I hear your voices\n",
            "704.52 I need your help and I will be your\n",
            "708.48 president too and all those watching\n",
            "718.86 tonight from beyond our shores from\n",
            "721.77 Parliament's and palaces to those who\n",
            "724.56 are huddled around radios in the\n",
            "726.0 Forgotten corners of the world our\n",
            "728.21 stories are singular but our destiny is\n",
            "730.95 shared and a new dawn of American\n",
            "733.41 leadership is at hand to those to those\n",
            "742.68 who would tear the world down we will\n",
            "746.04 defeat you to those who seek peace and\n",
            "750.57 security we support you and to all those\n",
            "755.07 who have wondered if America's beacon\n",
            "757.11 still burns as bright tonight we proved\n",
            "760.17 once more that the true strength of our\n",
            "762.48 nation comes not from the might of our\n",
            "764.46 arms or the scale of our wealth but from\n",
            "766.71 the enduring power of our ideals\n",
            "768.86 democracy Liberty opportunity and\n",
            "772.23 unyielding\n",
            "783.72 that's the true genius of America that\n",
            "787.54 America can change our union can be\n",
            "792.43 perfect what we've already achieved\n",
            "795.01 gives us hope for what we can and must\n",
            "797.589 achieve tomorrow this election had many\n",
            "800.92 firsts and many stories will be told for\n",
            "803.5 generations but one that's on my mind\n",
            "805.63 tonight's about a woman who cast her\n",
            "808.18 ballot in Atlanta she is a lot like the\n",
            "811.69 millions of others who stood in line to\n",
            "813.4 make their voice heard in this election\n",
            "814.99 except for one thing\n",
            "816.67 and Nixon Cooper is 106 years old she\n",
            "822.76 was born just a generation past slavery\n",
            "824.92 a time when there were no cars on the\n",
            "827.65 road or planes in the sky when someone\n",
            "830.8 like her couldn't vote for two reasons\n",
            "832.54 because she was a woman and because of\n",
            "835.06 the color of her skin and tonight I\n",
            "838.51 think about all that she's seen\n",
            "840.82 throughout her century in America the\n",
            "844.06 heartache and the hope the struggle and\n",
            "847.06 the progress the times we were told that\n",
            "849.82 we can't\n",
            "850.48 and the people who pressed on with that\n",
            "853.57 American creed yes we can at a time when\n",
            "858.52 women's voices were silenced and their\n",
            "860.32 hopes dismissed she lived to see them\n",
            "862.779 stand up and speak out and reach for the\n",
            "865.0 ballot yes we can when there was despair\n",
            "868.839 in the Dust Bowl and depression across\n",
            "871.66 the land she saw a nation conquer fear\n",
            "874.42 itself with a new deal new jobs a new\n",
            "877.69 sense of common purpose yes we can when\n",
            "882.58 the bombs fell on our harbor and tyranny\n",
            "886.06 threatened the world she was there to\n",
            "887.68 witness a generation rise to greatness\n",
            "889.51 and a democracy was saved yes we can she\n",
            "895.66 was there for the buses in Montgomery\n",
            "897.18 the hoses in Birmingham a bridge in\n",
            "900.16 Selma and a preacher from Atlanta who\n",
            "902.589 told the people that\n",
            "904.029 we shall overcome yes we can a man\n",
            "909.759 touched down on the moon a wall came\n",
            "912.97 down in Berlin a world was connected by\n",
            "916.75 our own science and imagination and this\n",
            "920.079 year in this election she touched her\n",
            "923.35 finger to a screen and cast her vote\n",
            "926.79 because after a hundred and six years in\n",
            "929.47 America through the best of times and\n",
            "932.23 the darkest of hours she knows how\n",
            "934.24 America can change yes we can America we\n",
            "940.48 have come so far we have seen so much\n",
            "944.37 but there's so much more to do so\n",
            "947.189 tonight let us ask ourselves if our\n",
            "951.399 children should live to see the next\n",
            "953.649 century if my daughter's should be so\n",
            "956.829 lucky to live as long as an Nixon cooper\n",
            "959.85 what change will they see what progress\n",
            "963.879 will we have made this is our chance to\n",
            "967.87 answer that call this is our moment this\n",
            "972.069 is our time to put our people back to\n",
            "975.339 work and open doors of opportunity for\n",
            "977.199 our kids to restore prosperity and\n",
            "979.689 promote the cause of peace to reclaim\n",
            "982.269 the American Dream and reaffirm that\n",
            "984.55 fundamental truth that out of many we\n",
            "987.309 are one that while we breathe we hope\n",
            "990.129 and where we are met with cynicism and\n",
            "992.86 doubt and those who tell us that we\n",
            "995.319 can't we will respond with that timeless\n",
            "997.779 creed that sums up the spirit of a\n",
            "1000.569 people yes we can thank you\n",
            "1004.05 god bless you and may God bless the\n",
            "1006.75 United States of America\n",
            "1019.4 you\n"
          ]
        }
      ],
      "source": [
        "yt_video = \"https://youtu.be/Jll5baCAaQU?si=io5XEnCrYWGyeJp3\"\n",
        "\n",
        "# Corrected code to extract video ID\n",
        "video_id = yt_video.split(\"/\")[-1]\n",
        "\n",
        "# Check if video ID is correct\n",
        "print(f\"Extracted video ID: {video_id}\")\n",
        "\n",
        "# Check if transcripts are available\n",
        "try:\n",
        "    transcript = YouTubeTranscriptApi.get_transcript(video_id)\n",
        "    print(\"Transcript retrieved successfully.\")\n",
        "except TranscriptsDisabled:\n",
        "    print(\"Transcripts are disabled for this video.\")\n",
        "\n",
        "# Print the transcript (if available)\n",
        "if transcript:\n",
        "    for t in transcript:\n",
        "        print(f\"{t['start']} {t['text']}\")"
      ]
    },
    {
      "cell_type": "code",
      "execution_count": null,
      "metadata": {
        "colab": {
          "base_uri": "https://localhost:8080/"
        },
        "id": "b_nhi0DyiBAQ",
        "outputId": "8f02133f-33ef-4624-cf56-ac9f3151f982"
      },
      "outputs": [
        {
          "data": {
            "text/plain": [
              "[{'text': 'hello Chicago', 'start': 3.34, 'duration': 3.66},\n",
              " {'text': 'if there is anyone out there who still',\n",
              "  'start': 14.63,\n",
              "  'duration': 8.5},\n",
              " {'text': 'doubts that America is a place where all',\n",
              "  'start': 19.56,\n",
              "  'duration': 8.46},\n",
              " {'text': 'things are possible who still wonders if',\n",
              "  'start': 23.13,\n",
              "  'duration': 7.35},\n",
              " {'text': 'the dream of our founders is alive in',\n",
              "  'start': 28.02,\n",
              "  'duration': 6.3}]"
            ]
          },
          "execution_count": 11,
          "metadata": {},
          "output_type": "execute_result"
        }
      ],
      "source": [
        "transcript[0:5]"
      ]
    },
    {
      "cell_type": "code",
      "execution_count": null,
      "metadata": {
        "colab": {
          "base_uri": "https://localhost:8080/"
        },
        "id": "sVXmUk6AiK8d",
        "outputId": "9bd73276-ffd4-4879-907c-a96a151c9bea"
      },
      "outputs": [
        {
          "name": "stdout",
          "output_type": "stream",
          "text": [
            "10763\n"
          ]
        }
      ],
      "source": [
        "result = \"\"\n",
        "for i in transcript:\n",
        "  result += ' ' + i['text']\n",
        "print(len(result))"
      ]
    },
    {
      "cell_type": "code",
      "execution_count": null,
      "metadata": {
        "colab": {
          "base_uri": "https://localhost:8080/",
          "height": 208,
          "referenced_widgets": [
            "60f8b0d43bfc4a78be8fd673852282c9",
            "c6e9481c6bb14e2e9925adb2b7d2c94c",
            "ab40915aa7794358b7ac40c68c3883c6",
            "af4f9fe17b4a4f6291014daf2041b6bb",
            "551cfc21cba446d6a1681c2c31592133",
            "e8ea78113443431fa96197a03b825b8d",
            "144eff4f0e5b4d18abd5c84ede86fa5c",
            "43acaf2dccee48dbb6353bc37c9cb70b",
            "53928f2ab2534f66824057768f514b8b",
            "86954c9135674ec281376cf2ce21111f",
            "8efc8e89c70848dfb6d426c8a5b337f2"
          ]
        },
        "id": "pOMzGFopiYQz",
        "outputId": "8a6717ae-8f4c-46a1-ab52-c23e0f91104f"
      },
      "outputs": [
        {
          "name": "stderr",
          "output_type": "stream",
          "text": [
            "No model was supplied, defaulted to sshleifer/distilbart-cnn-12-6 and revision a4f8f3e (https://huggingface.co/sshleifer/distilbart-cnn-12-6).\n",
            "Using a pipeline without specifying a model name and revision in production is not recommended.\n",
            "/usr/local/lib/python3.10/dist-packages/huggingface_hub/utils/_token.py:88: UserWarning: \n",
            "The secret `HF_TOKEN` does not exist in your Colab secrets.\n",
            "To authenticate with the Hugging Face Hub, create a token in your settings tab (https://huggingface.co/settings/tokens), set it as secret in your Google Colab and restart your session.\n",
            "You will be able to reuse this secret in all of your notebooks.\n",
            "Please note that authentication is recommended but still optional to access public models or datasets.\n",
            "  warnings.warn(\n"
          ]
        },
        {
          "data": {
            "application/vnd.jupyter.widget-view+json": {
              "model_id": "60f8b0d43bfc4a78be8fd673852282c9",
              "version_major": 2,
              "version_minor": 0
            },
            "text/plain": [
              "config.json:   0%|          | 0.00/1.80k [00:00<?, ?B/s]"
            ]
          },
          "metadata": {},
          "output_type": "display_data"
        }
      ],
      "source": [
        "summarizer = pipeline('summarization')"
      ]
    },
    {
      "cell_type": "code",
      "execution_count": null,
      "metadata": {
        "id": "TQ38VoAYim7n"
      },
      "outputs": [],
      "source": [
        "num_iters = int(len(result)/1000)\n",
        "summarized_text = []\n",
        "for i in range(0, num_iters +1):\n",
        "  start = 0\n",
        "  start = i * 1000\n",
        "  end = (i + 1) * 1000\n",
        "  out = summarizer(result[start:end])\n",
        "  out = out[0]\n",
        "  out = out['summary_text']\n",
        "  summarized_text.append(out)\n",
        "print(summarized_text)"
      ]
    },
    {
      "cell_type": "code",
      "execution_count": null,
      "metadata": {
        "id": "Sv8SxfDcjY_M"
      },
      "outputs": [],
      "source": [
        "str(summarized_text)"
      ]
    },
    {
      "cell_type": "code",
      "execution_count": null,
      "metadata": {
        "id": "zQXi9eBPj2Jz"
      },
      "outputs": [],
      "source": [
        "len(str(summarized_text))"
      ]
    },
    {
      "cell_type": "code",
      "execution_count": null,
      "metadata": {
        "id": "NW1DkF9gforG"
      },
      "outputs": [],
      "source": [
        "! pip install streamlit -q"
      ]
    },
    {
      "cell_type": "code",
      "execution_count": null,
      "metadata": {
        "id": "QkucJCmPfvLD"
      },
      "outputs": [],
      "source": [
        "%%writefile app.py\n",
        "import streamlit as st\n",
        "from transformers import pipeline\n",
        "from youtube_transcript_api import YouTubeTranscriptApi\n",
        "\n",
        "# Function to get video ID from YouTube URL\n",
        "def get_video_id(yt_url):\n",
        "    return yt_url.split(\"/\")[-1].split(\"?\")[0]\n",
        "\n",
        "# Function to get YouTube transcript\n",
        "def get_transcript(video_id):\n",
        "    try:\n",
        "        transcript = YouTubeTranscriptApi.get_transcript(video_id)\n",
        "        return transcript\n",
        "    except:\n",
        "        return None\n",
        "\n",
        "# Streamlit UI\n",
        "st.title(\"YouTube Transcript Summarizer\")\n",
        "\n",
        "# Input field for YouTube URL\n",
        "yt_video_url = st.text_input(\"Enter YouTube Video URL:\", \"\")\n",
        "\n",
        "# Check if URL is provided\n",
        "if yt_video_url:\n",
        "    video_id = get_video_id(yt_video_url)\n",
        "\n",
        "    # Check if transcripts are available\n",
        "    transcript = get_transcript(video_id)\n",
        "    if transcript:\n",
        "        st.write(\"Transcript retrieved successfully.\")\n",
        "\n",
        "        # Display original transcript\n",
        "        st.subheader(\"Original Transcript:\")\n",
        "        for t in transcript:\n",
        "            st.write(f\"{t['start']} - {t['text']}\")\n",
        "\n",
        "        # Concatenate transcript text\n",
        "        transcript_text = \" \".join([t['text'] for t in transcript])\n",
        "\n",
        "        # Summarize the transcript\n",
        "        summarizer = pipeline('summarization')\n",
        "        num_iters = int(len(transcript_text)/1000)\n",
        "        summarized_text = []\n",
        "        for i in range(0, num_iters + 1):\n",
        "            start = i * 1000\n",
        "            end = (i + 1) * 1000\n",
        "            out = summarizer(transcript_text[start:end])\n",
        "            out = out[0]\n",
        "            out = out['summary_text']\n",
        "            summarized_text.append(out)\n",
        "\n",
        "        # Print summarized text\n",
        "        st.subheader(\"Summarized Transcript:\")\n",
        "        for text in summarized_text:\n",
        "            st.write(text)\n",
        "\n",
        "        # Display length of summarized text\n",
        "        st.subheader(\"Length of Summarized Text:\")\n",
        "        st.write(sum(len(text) for text in summarized_text))\n",
        "\n",
        "    else:\n",
        "        st.write(\"Transcripts are disabled for this video or the video ID is incorrect.\")\n"
      ]
    },
    {
      "cell_type": "code",
      "execution_count": null,
      "metadata": {
        "id": "swLuHiH5glBZ"
      },
      "outputs": [],
      "source": [
        "!wget -q -O - ipv4.icanhazip.com"
      ]
    },
    {
      "cell_type": "code",
      "execution_count": null,
      "metadata": {
        "colab": {
          "background_save": true,
          "base_uri": "https://localhost:8080/"
        },
        "id": "Ng_166UKgHgH",
        "outputId": "fd7b68c3-6833-45c1-a781-bbb471396675"
      },
      "outputs": [
        {
          "name": "stdout",
          "output_type": "stream",
          "text": [
            "\n",
            "Collecting usage statistics. To deactivate, set browser.gatherUsageStats to false.\n",
            "\u001b[0m\n",
            "\u001b[0m\n",
            "\u001b[34m\u001b[1m  You can now view your Streamlit app in your browser.\u001b[0m\n",
            "\u001b[0m\n",
            "\u001b[34m  Network URL: \u001b[0m\u001b[1mhttp://172.28.0.12:8501\u001b[0m\n",
            "\u001b[34m  External URL: \u001b[0m\u001b[1mhttp://35.245.171.156:8501\u001b[0m\n",
            "\u001b[0m\n",
            "\u001b[K\u001b[?25hnpx: installed 22 in 4.168s\n",
            "your url is: https://famous-toys-brush.loca.lt\n",
            "2024-05-04 04:41:43.554778: E external/local_xla/xla/stream_executor/cuda/cuda_dnn.cc:9261] Unable to register cuDNN factory: Attempting to register factory for plugin cuDNN when one has already been registered\n",
            "2024-05-04 04:41:43.554838: E external/local_xla/xla/stream_executor/cuda/cuda_fft.cc:607] Unable to register cuFFT factory: Attempting to register factory for plugin cuFFT when one has already been registered\n",
            "2024-05-04 04:41:43.556385: E external/local_xla/xla/stream_executor/cuda/cuda_blas.cc:1515] Unable to register cuBLAS factory: Attempting to register factory for plugin cuBLAS when one has already been registered\n",
            "2024-05-04 04:41:45.054100: W tensorflow/compiler/tf2tensorrt/utils/py_utils.cc:38] TF-TRT Warning: Could not find TensorRT\n",
            "No model was supplied, defaulted to sshleifer/distilbart-cnn-12-6 and revision a4f8f3e (https://huggingface.co/sshleifer/distilbart-cnn-12-6).\n",
            "Using a pipeline without specifying a model name and revision in production is not recommended.\n",
            "No model was supplied, defaulted to sshleifer/distilbart-cnn-12-6 and revision a4f8f3e (https://huggingface.co/sshleifer/distilbart-cnn-12-6).\n",
            "Using a pipeline without specifying a model name and revision in production is not recommended.\n",
            "No model was supplied, defaulted to sshleifer/distilbart-cnn-12-6 and revision a4f8f3e (https://huggingface.co/sshleifer/distilbart-cnn-12-6).\n",
            "Using a pipeline without specifying a model name and revision in production is not recommended.\n"
          ]
        }
      ],
      "source": [
        "! streamlit run app.py & npx localtunnel --port 8501"
      ]
    }
  ],
  "metadata": {
    "colab": {
      "provenance": []
    },
    "kernelspec": {
      "display_name": "Python 3",
      "name": "python3"
    },
    "language_info": {
      "name": "python"
    },
    "widgets": {
      "application/vnd.jupyter.widget-state+json": {
        "144eff4f0e5b4d18abd5c84ede86fa5c": {
          "model_module": "@jupyter-widgets/controls",
          "model_module_version": "1.5.0",
          "model_name": "DescriptionStyleModel",
          "state": {
            "_model_module": "@jupyter-widgets/controls",
            "_model_module_version": "1.5.0",
            "_model_name": "DescriptionStyleModel",
            "_view_count": null,
            "_view_module": "@jupyter-widgets/base",
            "_view_module_version": "1.2.0",
            "_view_name": "StyleView",
            "description_width": ""
          }
        },
        "43acaf2dccee48dbb6353bc37c9cb70b": {
          "model_module": "@jupyter-widgets/base",
          "model_module_version": "1.2.0",
          "model_name": "LayoutModel",
          "state": {
            "_model_module": "@jupyter-widgets/base",
            "_model_module_version": "1.2.0",
            "_model_name": "LayoutModel",
            "_view_count": null,
            "_view_module": "@jupyter-widgets/base",
            "_view_module_version": "1.2.0",
            "_view_name": "LayoutView",
            "align_content": null,
            "align_items": null,
            "align_self": null,
            "border": null,
            "bottom": null,
            "display": null,
            "flex": null,
            "flex_flow": null,
            "grid_area": null,
            "grid_auto_columns": null,
            "grid_auto_flow": null,
            "grid_auto_rows": null,
            "grid_column": null,
            "grid_gap": null,
            "grid_row": null,
            "grid_template_areas": null,
            "grid_template_columns": null,
            "grid_template_rows": null,
            "height": null,
            "justify_content": null,
            "justify_items": null,
            "left": null,
            "margin": null,
            "max_height": null,
            "max_width": null,
            "min_height": null,
            "min_width": null,
            "object_fit": null,
            "object_position": null,
            "order": null,
            "overflow": null,
            "overflow_x": null,
            "overflow_y": null,
            "padding": null,
            "right": null,
            "top": null,
            "visibility": null,
            "width": null
          }
        },
        "53928f2ab2534f66824057768f514b8b": {
          "model_module": "@jupyter-widgets/controls",
          "model_module_version": "1.5.0",
          "model_name": "ProgressStyleModel",
          "state": {
            "_model_module": "@jupyter-widgets/controls",
            "_model_module_version": "1.5.0",
            "_model_name": "ProgressStyleModel",
            "_view_count": null,
            "_view_module": "@jupyter-widgets/base",
            "_view_module_version": "1.2.0",
            "_view_name": "StyleView",
            "bar_color": null,
            "description_width": ""
          }
        },
        "551cfc21cba446d6a1681c2c31592133": {
          "model_module": "@jupyter-widgets/base",
          "model_module_version": "1.2.0",
          "model_name": "LayoutModel",
          "state": {
            "_model_module": "@jupyter-widgets/base",
            "_model_module_version": "1.2.0",
            "_model_name": "LayoutModel",
            "_view_count": null,
            "_view_module": "@jupyter-widgets/base",
            "_view_module_version": "1.2.0",
            "_view_name": "LayoutView",
            "align_content": null,
            "align_items": null,
            "align_self": null,
            "border": null,
            "bottom": null,
            "display": null,
            "flex": null,
            "flex_flow": null,
            "grid_area": null,
            "grid_auto_columns": null,
            "grid_auto_flow": null,
            "grid_auto_rows": null,
            "grid_column": null,
            "grid_gap": null,
            "grid_row": null,
            "grid_template_areas": null,
            "grid_template_columns": null,
            "grid_template_rows": null,
            "height": null,
            "justify_content": null,
            "justify_items": null,
            "left": null,
            "margin": null,
            "max_height": null,
            "max_width": null,
            "min_height": null,
            "min_width": null,
            "object_fit": null,
            "object_position": null,
            "order": null,
            "overflow": null,
            "overflow_x": null,
            "overflow_y": null,
            "padding": null,
            "right": null,
            "top": null,
            "visibility": null,
            "width": null
          }
        },
        "60f8b0d43bfc4a78be8fd673852282c9": {
          "model_module": "@jupyter-widgets/controls",
          "model_module_version": "1.5.0",
          "model_name": "HBoxModel",
          "state": {
            "_dom_classes": [],
            "_model_module": "@jupyter-widgets/controls",
            "_model_module_version": "1.5.0",
            "_model_name": "HBoxModel",
            "_view_count": null,
            "_view_module": "@jupyter-widgets/controls",
            "_view_module_version": "1.5.0",
            "_view_name": "HBoxView",
            "box_style": "",
            "children": [
              "IPY_MODEL_c6e9481c6bb14e2e9925adb2b7d2c94c",
              "IPY_MODEL_ab40915aa7794358b7ac40c68c3883c6",
              "IPY_MODEL_af4f9fe17b4a4f6291014daf2041b6bb"
            ],
            "layout": "IPY_MODEL_551cfc21cba446d6a1681c2c31592133"
          }
        },
        "86954c9135674ec281376cf2ce21111f": {
          "model_module": "@jupyter-widgets/base",
          "model_module_version": "1.2.0",
          "model_name": "LayoutModel",
          "state": {
            "_model_module": "@jupyter-widgets/base",
            "_model_module_version": "1.2.0",
            "_model_name": "LayoutModel",
            "_view_count": null,
            "_view_module": "@jupyter-widgets/base",
            "_view_module_version": "1.2.0",
            "_view_name": "LayoutView",
            "align_content": null,
            "align_items": null,
            "align_self": null,
            "border": null,
            "bottom": null,
            "display": null,
            "flex": null,
            "flex_flow": null,
            "grid_area": null,
            "grid_auto_columns": null,
            "grid_auto_flow": null,
            "grid_auto_rows": null,
            "grid_column": null,
            "grid_gap": null,
            "grid_row": null,
            "grid_template_areas": null,
            "grid_template_columns": null,
            "grid_template_rows": null,
            "height": null,
            "justify_content": null,
            "justify_items": null,
            "left": null,
            "margin": null,
            "max_height": null,
            "max_width": null,
            "min_height": null,
            "min_width": null,
            "object_fit": null,
            "object_position": null,
            "order": null,
            "overflow": null,
            "overflow_x": null,
            "overflow_y": null,
            "padding": null,
            "right": null,
            "top": null,
            "visibility": null,
            "width": null
          }
        },
        "8efc8e89c70848dfb6d426c8a5b337f2": {
          "model_module": "@jupyter-widgets/controls",
          "model_module_version": "1.5.0",
          "model_name": "DescriptionStyleModel",
          "state": {
            "_model_module": "@jupyter-widgets/controls",
            "_model_module_version": "1.5.0",
            "_model_name": "DescriptionStyleModel",
            "_view_count": null,
            "_view_module": "@jupyter-widgets/base",
            "_view_module_version": "1.2.0",
            "_view_name": "StyleView",
            "description_width": ""
          }
        },
        "ab40915aa7794358b7ac40c68c3883c6": {
          "model_module": "@jupyter-widgets/controls",
          "model_module_version": "1.5.0",
          "model_name": "FloatProgressModel",
          "state": {
            "_dom_classes": [],
            "_model_module": "@jupyter-widgets/controls",
            "_model_module_version": "1.5.0",
            "_model_name": "FloatProgressModel",
            "_view_count": null,
            "_view_module": "@jupyter-widgets/controls",
            "_view_module_version": "1.5.0",
            "_view_name": "ProgressView",
            "bar_style": "",
            "description": "",
            "description_tooltip": null,
            "layout": "IPY_MODEL_43acaf2dccee48dbb6353bc37c9cb70b",
            "max": 1802,
            "min": 0,
            "orientation": "horizontal",
            "style": "IPY_MODEL_53928f2ab2534f66824057768f514b8b",
            "value": 1802
          }
        },
        "af4f9fe17b4a4f6291014daf2041b6bb": {
          "model_module": "@jupyter-widgets/controls",
          "model_module_version": "1.5.0",
          "model_name": "HTMLModel",
          "state": {
            "_dom_classes": [],
            "_model_module": "@jupyter-widgets/controls",
            "_model_module_version": "1.5.0",
            "_model_name": "HTMLModel",
            "_view_count": null,
            "_view_module": "@jupyter-widgets/controls",
            "_view_module_version": "1.5.0",
            "_view_name": "HTMLView",
            "description": "",
            "description_tooltip": null,
            "layout": "IPY_MODEL_86954c9135674ec281376cf2ce21111f",
            "placeholder": "​",
            "style": "IPY_MODEL_8efc8e89c70848dfb6d426c8a5b337f2",
            "value": " 0.00/1.80k [00:00&lt;?, ?B/s]"
          }
        },
        "c6e9481c6bb14e2e9925adb2b7d2c94c": {
          "model_module": "@jupyter-widgets/controls",
          "model_module_version": "1.5.0",
          "model_name": "HTMLModel",
          "state": {
            "_dom_classes": [],
            "_model_module": "@jupyter-widgets/controls",
            "_model_module_version": "1.5.0",
            "_model_name": "HTMLModel",
            "_view_count": null,
            "_view_module": "@jupyter-widgets/controls",
            "_view_module_version": "1.5.0",
            "_view_name": "HTMLView",
            "description": "",
            "description_tooltip": null,
            "layout": "IPY_MODEL_e8ea78113443431fa96197a03b825b8d",
            "placeholder": "​",
            "style": "IPY_MODEL_144eff4f0e5b4d18abd5c84ede86fa5c",
            "value": "config.json: 100%"
          }
        },
        "e8ea78113443431fa96197a03b825b8d": {
          "model_module": "@jupyter-widgets/base",
          "model_module_version": "1.2.0",
          "model_name": "LayoutModel",
          "state": {
            "_model_module": "@jupyter-widgets/base",
            "_model_module_version": "1.2.0",
            "_model_name": "LayoutModel",
            "_view_count": null,
            "_view_module": "@jupyter-widgets/base",
            "_view_module_version": "1.2.0",
            "_view_name": "LayoutView",
            "align_content": null,
            "align_items": null,
            "align_self": null,
            "border": null,
            "bottom": null,
            "display": null,
            "flex": null,
            "flex_flow": null,
            "grid_area": null,
            "grid_auto_columns": null,
            "grid_auto_flow": null,
            "grid_auto_rows": null,
            "grid_column": null,
            "grid_gap": null,
            "grid_row": null,
            "grid_template_areas": null,
            "grid_template_columns": null,
            "grid_template_rows": null,
            "height": null,
            "justify_content": null,
            "justify_items": null,
            "left": null,
            "margin": null,
            "max_height": null,
            "max_width": null,
            "min_height": null,
            "min_width": null,
            "object_fit": null,
            "object_position": null,
            "order": null,
            "overflow": null,
            "overflow_x": null,
            "overflow_y": null,
            "padding": null,
            "right": null,
            "top": null,
            "visibility": null,
            "width": null
          }
        }
      }
    }
  },
  "nbformat": 4,
  "nbformat_minor": 0
}